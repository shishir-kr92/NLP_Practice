{
 "cells": [
  {
   "cell_type": "markdown",
   "metadata": {},
   "source": [
    "# NEM\n",
    "NEM(Named Entity Recognition) seeks to locate and classify named entity mentions in unstructured text into pre-defined categories sucs as the person names,\n",
    "organisation, location, medical codes, time expressions, quantities, monetary value, precentage."
   ]
  },
  {
   "cell_type": "code",
   "execution_count": 2,
   "metadata": {},
   "outputs": [],
   "source": [
    "import spacy\n",
    "nlp = spacy.load('en_core_web_sm')"
   ]
  },
  {
   "cell_type": "code",
   "execution_count": 12,
   "metadata": {},
   "outputs": [],
   "source": [
    "def show_ent(doc):\n",
    "    if doc.ents:\n",
    "        for ent in doc.ents:\n",
    "            print(f\"{ent.text:10} {ent.label_:10} {spacy.explain(ent.label_):20}\")\n",
    "    else:\n",
    "        print(\"no entity found\")"
   ]
  },
  {
   "cell_type": "code",
   "execution_count": 6,
   "metadata": {},
   "outputs": [],
   "source": [
    "doc1 = nlp(\"Hi how are you\")"
   ]
  },
  {
   "cell_type": "code",
   "execution_count": 7,
   "metadata": {},
   "outputs": [
    {
     "name": "stdout",
     "output_type": "stream",
     "text": [
      "no entity found\n"
     ]
    }
   ],
   "source": [
    "show_ent(doc1)"
   ]
  },
  {
   "cell_type": "code",
   "execution_count": 13,
   "metadata": {},
   "outputs": [
    {
     "name": "stdout",
     "output_type": "stream",
     "text": [
      "Apple      ORG        Companies, agencies, institutions, etc.\n",
      "Newton     GPE        Countries, cities, states\n"
     ]
    }
   ],
   "source": [
    "doc2 = nlp(\"Apple fells on Newton's head\")\n",
    "show_ent(doc2)"
   ]
  },
  {
   "cell_type": "code",
   "execution_count": 47,
   "metadata": {},
   "outputs": [
    {
     "name": "stdout",
     "output_type": "stream",
     "text": [
      "Apple      ORG        Companies, agencies, institutions, etc.\n",
      "*******************************************\n",
      "Apple      PRODUCT    Objects, vehicles, foods, etc. (not services)\n"
     ]
    }
   ],
   "source": [
    "doc3 = nlp(\"Apple is sweet\")\n",
    "show_ent(doc3)\n",
    "\n",
    "print(\"*******************************************\")\n",
    "from spacy.tokens import Span\n",
    "PRODUCT = doc3.vocab.strings[u'PRODUCT']\n",
    "new_ent = Span(doc3, 0,1, label=PRODUCT)\n",
    "\n",
    "doc3.ents = list(doc3.ents) + [new_ent]\n",
    "\n",
    "show_ent(doc3)"
   ]
  },
  {
   "cell_type": "code",
   "execution_count": 27,
   "metadata": {},
   "outputs": [
    {
     "name": "stdout",
     "output_type": "stream",
     "text": [
      "Avenger    GPE        Countries, cities, states\n"
     ]
    },
    {
     "data": {
      "text/plain": [
       "spacy.tokens.doc.Doc"
      ]
     },
     "execution_count": 27,
     "metadata": {},
     "output_type": "execute_result"
    }
   ],
   "source": [
    "doc4 = nlp(\"Hulk was freeking awsome in Avenger movie\")\n",
    "show_ent(doc4)\n",
    "\n"
   ]
  },
  {
   "cell_type": "code",
   "execution_count": 64,
   "metadata": {},
   "outputs": [
    {
     "name": "stdout",
     "output_type": "stream",
     "text": [
      "U.K.       GPE        Countries, cities, states\n",
      "$6 billion MONEY      Monetary values, including unit\n",
      "*******************************************\n",
      "Tesla      ORG        Companies, agencies, institutions, etc.\n",
      "U.K.       GPE        Countries, cities, states\n",
      "$6 billion MONEY      Monetary values, including unit\n"
     ]
    }
   ],
   "source": [
    "doc5 = nlp(u\"Tesla to build a U.K. factory for $6 billion\")\n",
    "show_ent(doc5)\n",
    "print(\"*******************************************\")\n",
    "ORG = doc5.vocab.strings[u'ORG']\n",
    "new_ent = Span(doc5, 0,1, label=ORG)\n",
    "\n",
    "doc5.ents = list(doc5.ents) + [new_ent]\n",
    "show_ent(doc5)"
   ]
  },
  {
   "cell_type": "code",
   "execution_count": null,
   "metadata": {},
   "outputs": [],
   "source": []
  }
 ],
 "metadata": {
  "kernelspec": {
   "display_name": "py3_env",
   "language": "python",
   "name": "py3_env"
  },
  "language_info": {
   "codemirror_mode": {
    "name": "ipython",
    "version": 3
   },
   "file_extension": ".py",
   "mimetype": "text/x-python",
   "name": "python",
   "nbconvert_exporter": "python",
   "pygments_lexer": "ipython3",
   "version": "3.6.8"
  }
 },
 "nbformat": 4,
 "nbformat_minor": 2
}
