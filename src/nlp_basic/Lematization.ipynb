{
 "cells": [
  {
   "cell_type": "markdown",
   "metadata": {},
   "source": [
    "# Lematization\n",
    "In constrast to stemming, lematization looks beyond the work reduction, and considers a language's full\n",
    "vocabulary to apply morphological analysis to word "
   ]
  },
  {
   "cell_type": "code",
   "execution_count": 1,
   "metadata": {},
   "outputs": [],
   "source": [
    "import spacy"
   ]
  },
  {
   "cell_type": "code",
   "execution_count": 5,
   "metadata": {},
   "outputs": [],
   "source": [
    "nlp = spacy.load('en_core_web_sm')"
   ]
  },
  {
   "cell_type": "code",
   "execution_count": 18,
   "metadata": {},
   "outputs": [],
   "source": [
    "def print_text(text):\n",
    "    for token in text:\n",
    "        print(f\"{token.text:{12}} {token.pos_:{6}} {token.lemma:<22} {token.lemma_:6}\")"
   ]
  },
  {
   "cell_type": "code",
   "execution_count": 31,
   "metadata": {},
   "outputs": [],
   "source": [
    "doc = nlp(u'I am a runner running in a race because I love to run since I ran')"
   ]
  },
  {
   "cell_type": "code",
   "execution_count": 32,
   "metadata": {},
   "outputs": [
    {
     "name": "stdout",
     "output_type": "stream",
     "text": [
      "I            PRON   561228191312463089     -PRON-\n",
      "am           VERB   10382539506755952630   be    \n",
      "a            DET    11901859001352538922   a     \n",
      "runner       NOUN   12640964157389618806   runner\n",
      "running      VERB   12767647472892411841   run   \n",
      "in           ADP    3002984154512732771    in    \n",
      "a            DET    11901859001352538922   a     \n",
      "race         NOUN   8048469955494714898    race  \n",
      "because      ADP    16950148841647037698   because\n",
      "I            PRON   561228191312463089     -PRON-\n",
      "love         VERB   3702023516439754181    love  \n",
      "to           PART   3791531372978436496    to    \n",
      "run          VERB   12767647472892411841   run   \n",
      "since        ADP    10066841407251338481   since \n",
      "I            PRON   561228191312463089     -PRON-\n",
      "ran          VERB   12767647472892411841   run   \n"
     ]
    }
   ],
   "source": [
    "print_text(doc)"
   ]
  },
  {
   "cell_type": "code",
   "execution_count": 35,
   "metadata": {},
   "outputs": [],
   "source": [
    "doc = nlp(u'At that time I saw 10 mice chasing one mouse which was times bigger then all')"
   ]
  },
  {
   "cell_type": "code",
   "execution_count": 36,
   "metadata": {},
   "outputs": [
    {
     "name": "stdout",
     "output_type": "stream",
     "text": [
      "At           ADP    11667289587015813222   at    \n",
      "that         DET    4380130941430378203    that  \n",
      "time         NOUN   8885804376230376864    time  \n",
      "I            PRON   561228191312463089     -PRON-\n",
      "saw          VERB   11925638236994514241   see   \n",
      "10           NUM    6572986864102252890    10    \n",
      "mice         NOUN   1384165645700560590    mouse \n",
      "chasing      VERB   11233844080653092828   chase \n",
      "one          NUM    17454115351911680600   one   \n",
      "mouse        NOUN   1384165645700560590    mouse \n",
      "which        ADJ    7063653163634019529    which \n",
      "was          VERB   10382539506755952630   be    \n",
      "times        NOUN   8885804376230376864    time  \n",
      "bigger       ADJ    15511632813958231649   big   \n",
      "then         ADV    2630753287402592467    then  \n",
      "all          DET    13409319323822384369   all   \n"
     ]
    }
   ],
   "source": [
    "print_text(doc)"
   ]
  },
  {
   "cell_type": "code",
   "execution_count": null,
   "metadata": {},
   "outputs": [],
   "source": []
  },
  {
   "cell_type": "code",
   "execution_count": null,
   "metadata": {},
   "outputs": [],
   "source": []
  }
 ],
 "metadata": {
  "kernelspec": {
   "display_name": "py3_env",
   "language": "python",
   "name": "py3_env"
  },
  "language_info": {
   "codemirror_mode": {
    "name": "ipython",
    "version": 3
   },
   "file_extension": ".py",
   "mimetype": "text/x-python",
   "name": "python",
   "nbconvert_exporter": "python",
   "pygments_lexer": "ipython3",
   "version": "3.6.8"
  }
 },
 "nbformat": 4,
 "nbformat_minor": 2
}
