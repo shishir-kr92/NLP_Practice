{
 "cells": [
  {
   "cell_type": "code",
   "execution_count": 1,
   "metadata": {},
   "outputs": [],
   "source": [
    "import spacy"
   ]
  },
  {
   "cell_type": "code",
   "execution_count": 2,
   "metadata": {},
   "outputs": [],
   "source": [
    "nlp = spacy.load('en_core_web_sm')"
   ]
  },
  {
   "cell_type": "code",
   "execution_count": 3,
   "metadata": {},
   "outputs": [],
   "source": [
    "doc = nlp(u'Tesla is looking to buy U.S. startup for $6 million')"
   ]
  },
  {
   "cell_type": "code",
   "execution_count": 19,
   "metadata": {},
   "outputs": [
    {
     "name": "stdout",
     "output_type": "stream",
     "text": [
      "Tesla      PROPN      nsubj\n",
      "is         VERB       aux\n",
      "looking    VERB       ROOT\n",
      "to         PART       aux\n",
      "buy        VERB       xcomp\n",
      "U.S.       PROPN      compound\n",
      "startup    NOUN       dobj\n",
      "for        ADP        prep\n",
      "$          SYM        quantmod\n",
      "6          NUM        compound\n",
      "million    NUM        pobj\n"
     ]
    }
   ],
   "source": [
    "for token in doc:\n",
    "    print(f\"{token.text:10} {token.pos_:10} {token.dep_}\" )"
   ]
  },
  {
   "cell_type": "code",
   "execution_count": 28,
   "metadata": {},
   "outputs": [
    {
     "data": {
      "text/plain": [
       "[('tagger', <spacy.pipeline.Tagger at 0x7f1f307e1d30>),\n",
       " ('parser', <spacy.pipeline.DependencyParser at 0x7f1f2e7fb570>),\n",
       " ('ner', <spacy.pipeline.EntityRecognizer at 0x7f1f2e7fb5c8>)]"
      ]
     },
     "execution_count": 28,
     "metadata": {},
     "output_type": "execute_result"
    }
   ],
   "source": [
    "nlp.pipeline"
   ]
  },
  {
   "cell_type": "code",
   "execution_count": 32,
   "metadata": {},
   "outputs": [],
   "source": [
    "doc2 = nlp(r\"Tesla isn't looking for startup anymore\")"
   ]
  },
  {
   "cell_type": "code",
   "execution_count": 33,
   "metadata": {},
   "outputs": [
    {
     "name": "stdout",
     "output_type": "stream",
     "text": [
      "Tesla      PROPN      nsubj\n",
      "is         VERB       aux\n",
      "n't        ADV        neg\n",
      "looking    VERB       ROOT\n",
      "for        ADP        prep\n",
      "startup    NOUN       pobj\n",
      "anymore    ADV        advmod\n"
     ]
    }
   ],
   "source": [
    "for token in doc2:\n",
    "    print(f\"{token.text:10} {token.pos_:10} {token.dep_}\" )"
   ]
  },
  {
   "cell_type": "code",
   "execution_count": 36,
   "metadata": {},
   "outputs": [
    {
     "data": {
      "text/plain": [
       "'PROPN'"
      ]
     },
     "execution_count": 36,
     "metadata": {},
     "output_type": "execute_result"
    }
   ],
   "source": [
    "doc[0].pos_"
   ]
  },
  {
   "cell_type": "code",
   "execution_count": 40,
   "metadata": {},
   "outputs": [
    {
     "name": "stdout",
     "output_type": "stream",
     "text": [
      "Tesla      tesla   PROPN  NNP  Xxxxx      PROPN   1   0\n",
      "is         be      VERB   VBZ  xx         VERB    1   1\n",
      "n't        not     ADV    RB   x'x        ADV     0   0\n",
      "looking    look    VERB   VBG  xxxx       VERB    1   0\n",
      "for        for     ADP    IN   xxx        ADP     1   1\n",
      "startup    startup NOUN   NN   xxxx       NOUN    1   0\n",
      "anymore    anymore ADV    RB   xxxx       ADV     1   0\n"
     ]
    }
   ],
   "source": [
    "for token in doc2:\n",
    "    print(f\"{token.text:10} {token.lemma_:7} {token.pos_:6} {token.tag_:4} {token.shape_:10} { token.pos_:5} {token.is_alpha:3} {token.is_stop:3}\" )"
   ]
  },
  {
   "cell_type": "code",
   "execution_count": 71,
   "metadata": {},
   "outputs": [],
   "source": [
    "docs3=nlp(u'hi this is raw string. \"This string is just a multiline string.\" lets hope this long enough')"
   ]
  },
  {
   "cell_type": "code",
   "execution_count": 74,
   "metadata": {},
   "outputs": [
    {
     "data": {
      "text/plain": [
       "\"This string is just a multiline string.\""
      ]
     },
     "execution_count": 74,
     "metadata": {},
     "output_type": "execute_result"
    }
   ],
   "source": [
    "docs3[6:16]"
   ]
  },
  {
   "cell_type": "code",
   "execution_count": null,
   "metadata": {},
   "outputs": [],
   "source": []
  },
  {
   "cell_type": "code",
   "execution_count": null,
   "metadata": {},
   "outputs": [],
   "source": []
  }
 ],
 "metadata": {
  "kernelspec": {
   "display_name": "py3_env",
   "language": "python",
   "name": "py3_env"
  },
  "language_info": {
   "codemirror_mode": {
    "name": "ipython",
    "version": 3
   },
   "file_extension": ".py",
   "mimetype": "text/x-python",
   "name": "python",
   "nbconvert_exporter": "python",
   "pygments_lexer": "ipython3",
   "version": "3.6.8"
  }
 },
 "nbformat": 4,
 "nbformat_minor": 2
}
