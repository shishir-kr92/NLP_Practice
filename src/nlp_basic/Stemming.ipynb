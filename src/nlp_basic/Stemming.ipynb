{
 "cells": [
  {
   "cell_type": "markdown",
   "metadata": {},
   "source": [
    "## Stemming\n",
    "Porter Stemmer\n",
    "SnowBall Stemmer\n",
    "\n",
    "run     -->       run\n",
    "running -->       run\n",
    "runs    -->       run\n",
    "runner  -->    runner\n",
    "quickly -->   quickli\n",
    "fairly  -->    fairli"
   ]
  },
  {
   "cell_type": "code",
   "execution_count": 3,
   "metadata": {},
   "outputs": [],
   "source": [
    "import nltk\n",
    "from nltk.stem.porter import PorterStemmer"
   ]
  },
  {
   "cell_type": "code",
   "execution_count": 4,
   "metadata": {},
   "outputs": [],
   "source": [
    "p_stemmer = PorterStemmer()"
   ]
  },
  {
   "cell_type": "code",
   "execution_count": 5,
   "metadata": {},
   "outputs": [],
   "source": [
    "words = ['run', 'running', 'runs', 'runner', 'quickly', 'fairly']"
   ]
  },
  {
   "cell_type": "code",
   "execution_count": 27,
   "metadata": {},
   "outputs": [
    {
     "name": "stdout",
     "output_type": "stream",
     "text": [
      "run     -->       run\n",
      "running -->       run\n",
      "runs    -->       run\n",
      "runner  -->    runner\n",
      "quickly -->   quickli\n",
      "fairly  -->    fairli\n"
     ]
    }
   ],
   "source": [
    "for word in words:\n",
    "    print(f\"{word:<8}-->{p_stemmer.stem(word):>10}\")"
   ]
  },
  {
   "cell_type": "markdown",
   "metadata": {},
   "source": [
    "# Snowball Stemmer\n",
    "\n",
    "run     -->       run |\n",
    "running -->       run | \n",
    "runs    -->       run |\n",
    "runner  -->    runner |\n",
    "quickly -->     quick |\n",
    "fairly  -->      fair |\n",
    "runnerable-->    runner |"
   ]
  },
  {
   "cell_type": "code",
   "execution_count": 33,
   "metadata": {},
   "outputs": [],
   "source": [
    "words = ['run', 'running', 'runs', 'runner', 'quickly', 'fairly', 'runnerable']"
   ]
  },
  {
   "cell_type": "code",
   "execution_count": 29,
   "metadata": {},
   "outputs": [],
   "source": [
    "from nltk.stem.snowball import SnowballStemmer"
   ]
  },
  {
   "cell_type": "code",
   "execution_count": 30,
   "metadata": {},
   "outputs": [],
   "source": [
    "s_stemmer = SnowballStemmer(language='english')"
   ]
  },
  {
   "cell_type": "code",
   "execution_count": 34,
   "metadata": {},
   "outputs": [
    {
     "name": "stdout",
     "output_type": "stream",
     "text": [
      "run     -->       run\n",
      "running -->       run\n",
      "runs    -->       run\n",
      "runner  -->    runner\n",
      "quickly -->     quick\n",
      "fairly  -->      fair\n",
      "runnerable-->    runner\n"
     ]
    }
   ],
   "source": [
    "for word in words:\n",
    "    print(f\"{word:<8}-->{s_stemmer.stem(word):>10}\")"
   ]
  },
  {
   "cell_type": "code",
   "execution_count": null,
   "metadata": {},
   "outputs": [],
   "source": []
  },
  {
   "cell_type": "code",
   "execution_count": null,
   "metadata": {},
   "outputs": [],
   "source": []
  }
 ],
 "metadata": {
  "kernelspec": {
   "display_name": "py3_env",
   "language": "python",
   "name": "py3_env"
  },
  "language_info": {
   "codemirror_mode": {
    "name": "ipython",
    "version": 3
   },
   "file_extension": ".py",
   "mimetype": "text/x-python",
   "name": "python",
   "nbconvert_exporter": "python",
   "pygments_lexer": "ipython3",
   "version": "3.6.8"
  }
 },
 "nbformat": 4,
 "nbformat_minor": 2
}
